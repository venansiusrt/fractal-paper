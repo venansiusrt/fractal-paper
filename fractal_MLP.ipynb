{
 "cells": [
  {
   "cell_type": "code",
   "execution_count": null,
   "metadata": {},
   "outputs": [],
   "source": [
    "import pandas as pd\n",
    "import numpy as np\n",
    "from tqdm import tqdm \n",
    "import time\n",
    "\n",
    "import matplotlib.pyplot as plt\n",
    "from sklearn.metrics import confusion_matrix, classification_report\n",
    "import seaborn as sns\n",
    "\n",
    "from sklearn.neural_network import MLPClassifier\n",
    "import random"
   ]
  },
  {
   "cell_type": "code",
   "execution_count": null,
   "metadata": {},
   "outputs": [],
   "source": [
    "train = pd.read_csv(\"New_Mandelbrot_Dataset_TrainPy_10000_0.csv\")\n",
    "test = pd.read_csv(\"Mandelbrot_Dataset_TestPy.csv\")"
   ]
  },
  {
   "cell_type": "code",
   "execution_count": null,
   "metadata": {},
   "outputs": [],
   "source": [
    "XTrain = train[train.columns[:8]].values\n",
    "YTrain = train[train.columns[8]].values\n",
    "\n",
    "XTest = test[test.columns[:8]].values\n",
    "YTest = test[test.columns[8]].values"
   ]
  },
  {
   "cell_type": "code",
   "execution_count": null,
   "metadata": {},
   "outputs": [],
   "source": [
    "# MULTI-LAYER PERCEPTRON\n",
    "\n",
    "start_time = time.time()\n",
    "MLP = MLPClassifier(hidden_layer_sizes = (7,7,7),\n",
    "                    activation = 'logistic',\n",
    "                    solver = 'adam',\n",
    "                    learning_rate = 'adaptive',\n",
    "                    max_iter = 150,\n",
    "                    verbose = False).fit(XTrain, YTrain.ravel())\n",
    "stop_time = time.time() - start_time\n",
    "\n",
    "YPred = MLP.predict(XTest)\n",
    "\n",
    "cm = confusion_matrix(YTest, YPred)\n",
    "fig, ax = plt.subplots()\n",
    "sns.set(font_scale = 1.5) # Adjust to fit\n",
    "sns.heatmap(cm, annot = True, ax = ax, cmap = \"YlGnBu\", fmt = \"g\");  \n",
    "\n",
    "YTrainX = MLP.predict(XTrain)\n",
    "cmX = confusion_matrix(YTrainX, YTrain)\n",
    "    \n",
    "# Labels, title, and ticks\n",
    "label_font = {'size':'18'}\n",
    "ax.set_xlabel('Predicted labels', fontdict = label_font)\n",
    "ax.set_ylabel('Actual labels', fontdict = label_font)\n",
    "ax.set_title('MLP - Confusion Matrix', fontdict = label_font)\n",
    "ax.xaxis.set_ticklabels(['Converged', 'Diverged'], fontsize = 15)\n",
    "ax.yaxis.set_ticklabels(['Converged', 'Diverged'], fontsize = 15)\n",
    "plt.show()\n",
    "\n",
    "print(\"Train Accuracy\\t: \", round((cmX[0,0]+cmX[1,1])/np.sum(cmX)*100,5))\n",
    "print(\"Test Accuracy\\t: \", round((cm[0,0]+cm[1,1])/np.sum(cm)*100,5))\n",
    "print(\"Simulation Time\\t: \", round(stop_time,5))\n",
    "print(classification_report(YTest,YPred))"
   ]
  },
  {
   "cell_type": "code",
   "execution_count": null,
   "metadata": {},
   "outputs": [],
   "source": []
  }
 ],
 "metadata": {
  "kernelspec": {
   "display_name": "Python 3",
   "language": "python",
   "name": "python3"
  },
  "language_info": {
   "codemirror_mode": {
    "name": "ipython",
    "version": 3
   },
   "file_extension": ".py",
   "mimetype": "text/x-python",
   "name": "python",
   "nbconvert_exporter": "python",
   "pygments_lexer": "ipython3",
   "version": "3.7.6"
  }
 },
 "nbformat": 4,
 "nbformat_minor": 4
}
